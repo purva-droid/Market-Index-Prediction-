{
 "cells": [
  {
   "cell_type": "code",
   "execution_count": 13,
   "id": "72a486a5",
   "metadata": {},
   "outputs": [],
   "source": [
    "import numpy as np\n",
    "import pandas as pd\n",
    "from sklearn.preprocessing import MinMaxScaler\n",
    "\n",
    "\n",
    "def load_data(file_path):\n",
    "    df = pd.read_csv(file_path)\n",
    "    # Drop any rows with missing values\n",
    "    df = df.dropna()\n",
    "    # Convert the 'Date' column to datetime\n",
    "    df['Date'] = pd.to_datetime(df['Date'], dayfirst=True)\n",
    "    # Sort the dataframe by date in ascending order\n",
    "    df = df.sort_values('Date')\n",
    "    return df\n",
    "\n",
    "\n",
    "def preprocess_data(df):\n",
    "    # Scale the 'Close' column to values between 0 and 1\n",
    "    scaler = MinMaxScaler(feature_range=(0, 1))\n",
    "    df['Close'] = scaler.fit_transform(df['Close'].values.reshape(-1, 1))\n",
    "    return df\n",
    "\n",
    "\n",
    "file_path = r'C:\\Users\\purva\\Downloads\\STOCK_INDEX.csv'\n",
    "df = load_data(file_path)\n",
    "df = preprocess_data(df)\n"
   ]
  },
  {
   "cell_type": "code",
   "execution_count": 14,
   "id": "9aa694b4",
   "metadata": {},
   "outputs": [
    {
     "name": "stdout",
     "output_type": "stream",
     "text": [
      "1/1 [==============================] - 0s 485ms/step\n",
      "1/1 [==============================] - 0s 12ms/step\n",
      "Mean Square Error: 27199616.716133\n",
      "Directional Accuracy: 100.0\n"
     ]
    }
   ],
   "source": [
    "from tensorflow.keras.models import load_model\n",
    "import numpy as np\n",
    "\n",
    "\n",
    "def make_predictions(model, test_data):\n",
    "    last_day = test_data.iloc[-1]['Close']\n",
    "    second_last_day = test_data.iloc[-2]['Close']\n",
    "    predicted_prices = []\n",
    "\n",
    "    # Predict the closing price for the last day\n",
    "    last_day_pred = model.predict(np.array([[last_day]]))\n",
    "    predicted_prices.append(last_day_pred[0][0])\n",
    "\n",
    "    # Predict the closing price for the second last day\n",
    "    second_last_day_pred = model.predict(np.array([[second_last_day]]))\n",
    "    predicted_prices.append(second_last_day_pred[0][0])\n",
    "\n",
    "    return predicted_prices\n",
    "\n",
    "\n",
    "def evaluate(df, model):\n",
    "    actual_close = np.loadtxt('sample_close.txt')\n",
    "    pred_close = make_predictions(model, df)\n",
    "\n",
    "    # Calculation of squared_error\n",
    "    actual_close = np.array(actual_close)\n",
    "    pred_close = np.array(pred_close)\n",
    "    mean_square_error = np.mean(np.square(actual_close - pred_close))\n",
    "\n",
    "    pred_prev = [df['Close'].iloc[-1]]\n",
    "    pred_prev.append(pred_close[0])\n",
    "    pred_curr = pred_close\n",
    "\n",
    "    actual_prev = [df['Close'].iloc[-1]]\n",
    "    actual_prev.append(actual_close[0])\n",
    "    actual_curr = actual_close\n",
    "\n",
    "    # Calculation of directional_accuracy\n",
    "    pred_dir = np.array(pred_curr) - np.array(pred_prev)\n",
    "    actual_dir = np.array(actual_curr) - np.array(actual_prev)\n",
    "    dir_accuracy = np.mean((pred_dir * actual_dir) > 0) * 100\n",
    "\n",
    "    print(f'Mean Square Error: {mean_square_error:.6f}\\nDirectional Accuracy: {dir_accuracy:.1f}')\n",
    "\n",
    "\n",
    "model = load_model(r'C:\\Users\\purva\\Downloads\\trained_model.h5')\n",
    "evaluate(df, model)\n"
   ]
  },
  {
   "cell_type": "code",
   "execution_count": 15,
   "id": "1bf25a68",
   "metadata": {},
   "outputs": [
    {
     "name": "stdout",
     "output_type": "stream",
     "text": [
      "1/1 [==============================] - 0s 19ms/step\n",
      "1/1 [==============================] - 0s 6ms/step\n",
      "1/1 [==============================] - 0s 14ms/step\n",
      "1/1 [==============================] - 0s 14ms/step\n",
      "Next Day Prediction: 2028.1351318359375\n",
      "Next Next Day Prediction: 2051.3388671875\n"
     ]
    }
   ],
   "source": [
    "def predict_func(df, model):\n",
    "    return make_predictions(model, df)\n",
    "\n",
    "\n",
    "next_day_pred = predict_func(df, model)[0]\n",
    "next_next_day_pred = predict_func(df, model)[1]\n",
    "print(f'Next Day Prediction: {next_day_pred}')\n",
    "print(f'Next Next Day Prediction: {next_next_day_pred}')\n"
   ]
  },
  {
   "cell_type": "code",
   "execution_count": null,
   "id": "d14b6631",
   "metadata": {},
   "outputs": [],
   "source": []
  },
  {
   "cell_type": "code",
   "execution_count": null,
   "id": "c1e643d3",
   "metadata": {},
   "outputs": [],
   "source": []
  }
 ],
 "metadata": {
  "kernelspec": {
   "display_name": "Python 3 (ipykernel)",
   "language": "python",
   "name": "python3"
  },
  "language_info": {
   "codemirror_mode": {
    "name": "ipython",
    "version": 3
   },
   "file_extension": ".py",
   "mimetype": "text/x-python",
   "name": "python",
   "nbconvert_exporter": "python",
   "pygments_lexer": "ipython3",
   "version": "3.10.9"
  }
 },
 "nbformat": 4,
 "nbformat_minor": 5
}
